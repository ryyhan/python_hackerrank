{
  "nbformat": 4,
  "nbformat_minor": 0,
  "metadata": {
    "colab": {
      "provenance": [],
      "authorship_tag": "ABX9TyNoD6B3i9NKOvD2loF1PXAl",
      "include_colab_link": true
    },
    "kernelspec": {
      "name": "python3",
      "display_name": "Python 3"
    },
    "language_info": {
      "name": "python"
    }
  },
  "cells": [
    {
      "cell_type": "markdown",
      "metadata": {
        "id": "view-in-github",
        "colab_type": "text"
      },
      "source": [
        "<a href=\"https://colab.research.google.com/github/ryyhan/python_hackerrank/blob/master/PythonPractice.ipynb\" target=\"_parent\"><img src=\"https://colab.research.google.com/assets/colab-badge.svg\" alt=\"Open In Colab\"/></a>"
      ]
    },
    {
      "cell_type": "code",
      "source": [
        "sports=[\"Football\",\"Soccer\",\"Cricket\"]"
      ],
      "metadata": {
        "id": "YIBomPTbwF3C"
      },
      "execution_count": 1,
      "outputs": []
    },
    {
      "cell_type": "code",
      "source": [
        "more_sports=[\"Carrom\", \"Badminton\"]"
      ],
      "metadata": {
        "id": "8r3pv66CwNTe"
      },
      "execution_count": 2,
      "outputs": []
    },
    {
      "cell_type": "code",
      "source": [
        "final_sports=sports+more_sports"
      ],
      "metadata": {
        "id": "KWJB2Z90wSr9"
      },
      "execution_count": 3,
      "outputs": []
    },
    {
      "cell_type": "code",
      "source": [
        "final_sports.append([\"One more?\"])"
      ],
      "metadata": {
        "id": "L11XZmkDwYa5"
      },
      "execution_count": 5,
      "outputs": []
    },
    {
      "cell_type": "code",
      "source": [
        "final_sports"
      ],
      "metadata": {
        "colab": {
          "base_uri": "https://localhost:8080/"
        },
        "id": "4II9yoX2waTu",
        "outputId": "8e09d0bb-5d64-484f-af38-7a37e61748e8"
      },
      "execution_count": 6,
      "outputs": [
        {
          "output_type": "execute_result",
          "data": {
            "text/plain": [
              "['Football', 'Soccer', 'Cricket', 'Carrom', 'Badminton', ['One more?']]"
            ]
          },
          "metadata": {},
          "execution_count": 6
        }
      ]
    },
    {
      "cell_type": "code",
      "source": [],
      "metadata": {
        "id": "Ab-HWTh0wg3i"
      },
      "execution_count": null,
      "outputs": []
    }
  ]
}